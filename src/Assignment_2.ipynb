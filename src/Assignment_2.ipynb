{
 "cells": [
  {
   "cell_type": "markdown",
   "metadata": {},
   "source": [
    "# 自然言語処理 課題2\n",
    "AE2 No. 4 植原 真人\n",
    "\n"
   ]
  },
  {
   "cell_type": "markdown",
   "metadata": {},
   "source": [
    "## 6. Describe the class of strings matched by the following regular expressions.\n",
    "\n",
    "- a. [a-zA-Z]+\n",
    "- b. [A-Z][a-z]*\n",
    "- c. p[aeiou]{,2}t\n",
    "- d. \\d+(\\.\\d+)?\n",
    "- e. ([^aeiou][aeiou][^aeiou])*\n",
    "- f. \\w+|[^\\w\\s]+\n",
    "\n",
    "\n",
    "Test your answers using nltk.re_show()."
   ]
  },
  {
   "cell_type": "markdown",
   "metadata": {},
   "source": [
    "https://murashun.jp/article/programming/regular-expression.html"
   ]
  },
  {
   "cell_type": "code",
   "execution_count": 23,
   "metadata": {},
   "outputs": [],
   "source": [
    "import re\n",
    "import nltk\n",
    "\n",
    "\n",
    "regexp = [\n",
    "    r\"[a-zA-Z]+\",\n",
    "    r\"[A-Z][a-z]*\", \n",
    "    r\"p[aeiou]{,2}t\",\n",
    "    r\"\\d+(\\.\\d+)?\", \n",
    "    r\"([^aeiou][aeiou][^aeiou])*\", \n",
    "    r\"\\w+|[^\\w\\s]+\"\n",
    "]\n",
    "\n",
    "teststr = [\n",
    "    \"ab AB A a zAz 2abCd A/Bcd 234\", \n",
    "    \"ab AB A a zAz 2abCd A/Bcd 234 Abcdefghi\",\n",
    "    \"pt pet peat peiot poem eat\",\n",
    "    \"1 11.1 21. .33 3.14159\",\n",
    "    \".ar tat pop boo juckan\",\n",
    "    \"asjdkl !? !a!a hello, world!\"\n",
    "]"
   ]
  },
  {
   "cell_type": "markdown",
   "metadata": {},
   "source": [
    "### a. [a-zA-Z]+\n",
    "アルファベットの大文字あるいは小文字が1回以上繰り返す文字列"
   ]
  },
  {
   "cell_type": "code",
   "execution_count": 24,
   "metadata": {},
   "outputs": [
    {
     "name": "stdout",
     "output_type": "stream",
     "text": [
      "{ab} {AB} {A} {a} {zAz} 2{abCd} {A}/{Bcd} 234\n"
     ]
    }
   ],
   "source": [
    "nltk.re_show(regexp[0], teststr[0])"
   ]
  },
  {
   "cell_type": "markdown",
   "metadata": {},
   "source": [
    "### b. [A-Z][a-z]*\n",
    "アルファベットの大文字1文字の後に小文字が0回以上繰り返す文字列"
   ]
  },
  {
   "cell_type": "code",
   "execution_count": 25,
   "metadata": {},
   "outputs": [
    {
     "name": "stdout",
     "output_type": "stream",
     "text": [
      "ab {A}{B} {A} a z{Az} 2ab{Cd} {A}/{Bcd} 234 {Abcdefghi}\n"
     ]
    }
   ],
   "source": [
    "nltk.re_show(regexp[1], teststr[1])"
   ]
  },
  {
   "cell_type": "markdown",
   "metadata": {},
   "source": [
    "### c. p[aeiou]{,2}t\n",
    "pで始まり，間にaeiouの中から最大で２文字入り，最後がtで終わる文字列"
   ]
  },
  {
   "cell_type": "code",
   "execution_count": 26,
   "metadata": {},
   "outputs": [
    {
     "name": "stdout",
     "output_type": "stream",
     "text": [
      "{pt} {pet} {peat} peiot poem eat\n"
     ]
    }
   ],
   "source": [
    "nltk.re_show(regexp[2], teststr[2])"
   ]
  },
  {
   "cell_type": "markdown",
   "metadata": {},
   "source": [
    "### d. \\d+(\\.\\d+)?\n",
    "半角数字１文字のみあるいはそのあとにピリオドと１文字以上の数字が続く文字列"
   ]
  },
  {
   "cell_type": "code",
   "execution_count": 27,
   "metadata": {},
   "outputs": [
    {
     "name": "stdout",
     "output_type": "stream",
     "text": [
      "{1} {11.1} {21}. .{33} {3.14159}\n"
     ]
    }
   ],
   "source": [
    "nltk.re_show(regexp[3], teststr[3])"
   ]
  },
  {
   "cell_type": "markdown",
   "metadata": {},
   "source": [
    "### e. ([^aeiou][aeiou][^aeiou])*\n",
    "aeiou以外の文字１文字のあとにaeiouから１文字が続き，その後にaeiou以外の文字が続く組み合わせを0回以上繰り返した文字列"
   ]
  },
  {
   "cell_type": "code",
   "execution_count": 28,
   "metadata": {},
   "outputs": [
    {
     "name": "stdout",
     "output_type": "stream",
     "text": [
      "{.ar}{} {tat}{} {pop}{} {}b{}o{}o{} {juckan}{}\n"
     ]
    }
   ],
   "source": [
    "nltk.re_show(regexp[4], teststr[4])"
   ]
  },
  {
   "cell_type": "markdown",
   "metadata": {},
   "source": [
    "### f. \\w+|[^\\w\\s]+]\n",
    "英数字が1文字以上連続した文字列，あるいは英数字と空白文字以外の文字が１文字以上の連続した文字列のどちらか"
   ]
  },
  {
   "cell_type": "code",
   "execution_count": 29,
   "metadata": {},
   "outputs": [
    {
     "name": "stdout",
     "output_type": "stream",
     "text": [
      "{asjdkl} {!?} {!}{a}{!}{a} {hello}{,} {world}{!}\n"
     ]
    }
   ],
   "source": [
    "nltk.re_show(regexp[5], teststr[5])"
   ]
  },
  {
   "cell_type": "markdown",
   "metadata": {},
   "source": [
    "## 8. Write a utility function that takes a URL as its argument, and returns the contents of the URL, with all HTML markup removed. Use from urllib import request and then request.urlopen('http://nltk.org/').read().decode('utf8') to access the contents of the URL.\n",
    "beautiful soupを用いる．"
   ]
  },
  {
   "cell_type": "code",
   "execution_count": 2,
   "metadata": {},
   "outputs": [
    {
     "ename": "ModuleNotFoundError",
     "evalue": "No module named 'bs4'",
     "output_type": "error",
     "traceback": [
      "\u001b[0;31m---------------------------------------------------------------------------\u001b[0m",
      "\u001b[0;31mModuleNotFoundError\u001b[0m                       Traceback (most recent call last)",
      "\u001b[0;32m/tmp/ipykernel_705/617785756.py\u001b[0m in \u001b[0;36m<module>\u001b[0;34m\u001b[0m\n\u001b[1;32m      1\u001b[0m \u001b[0;32mfrom\u001b[0m \u001b[0murllib\u001b[0m \u001b[0;32mimport\u001b[0m \u001b[0mrequest\u001b[0m\u001b[0;34m\u001b[0m\u001b[0;34m\u001b[0m\u001b[0m\n\u001b[0;32m----> 2\u001b[0;31m \u001b[0;32mfrom\u001b[0m \u001b[0mbs4\u001b[0m \u001b[0;32mimport\u001b[0m \u001b[0mBeautifulSoup\u001b[0m\u001b[0;34m\u001b[0m\u001b[0;34m\u001b[0m\u001b[0m\n\u001b[0m\u001b[1;32m      3\u001b[0m \u001b[0msoup\u001b[0m \u001b[0;34m=\u001b[0m \u001b[0mBeautifulSoup\u001b[0m\u001b[0;34m(\u001b[0m\u001b[0mhtml_doc\u001b[0m\u001b[0;34m,\u001b[0m \u001b[0;34m'html.parser'\u001b[0m\u001b[0;34m)\u001b[0m\u001b[0;34m\u001b[0m\u001b[0;34m\u001b[0m\u001b[0m\n",
      "\u001b[0;31mModuleNotFoundError\u001b[0m: No module named 'bs4'"
     ]
    }
   ],
   "source": [
    "from urllib import request\n",
    "from bs4 import BeautifulSoup\n",
    "soup = BeautifulSoup(html_doc, 'html.parser')"
   ]
  },
  {
   "cell_type": "markdown",
   "metadata": {},
   "source": []
  }
 ],
 "metadata": {
  "interpreter": {
   "hash": "4cd7ab41f5fca4b9b44701077e38c5ffd31fe66a6cab21e0214b68d958d0e462"
  },
  "kernelspec": {
   "display_name": "Python 3.9.6 64-bit ('local')",
   "name": "python3"
  },
  "language_info": {
   "codemirror_mode": {
    "name": "ipython",
    "version": 3
   },
   "file_extension": ".py",
   "mimetype": "text/x-python",
   "name": "python",
   "nbconvert_exporter": "python",
   "pygments_lexer": "ipython3",
   "version": "3.9.6"
  },
  "orig_nbformat": 4
 },
 "nbformat": 4,
 "nbformat_minor": 2
}