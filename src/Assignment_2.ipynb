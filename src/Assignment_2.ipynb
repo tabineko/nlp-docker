{
 "cells": [
  {
   "cell_type": "markdown",
   "metadata": {},
   "source": [
    "# 自然言語処理 課題2\n",
    "AE2 No. 4 植原 真人\n",
    "\n"
   ]
  },
  {
   "cell_type": "markdown",
   "metadata": {},
   "source": [
    "## 6. Describe the class of strings matched by the following regular expressions.\n",
    "\n",
    "- a. [a-zA-Z]+\n",
    "- b. [A-Z][a-z]*\n",
    "- c. p[aeiou]{,2}t\n",
    "- d. \\d+(\\.\\d+)?\n",
    "- e. ([^aeiou][aeiou][^aeiou])*\n",
    "- f. \\w+|[^\\w\\s]+\n",
    "\n",
    "\n",
    "Test your answers using nltk.re_show()."
   ]
  },
  {
   "cell_type": "markdown",
   "metadata": {},
   "source": [
    "https://murashun.jp/article/programming/regular-expression.html"
   ]
  },
  {
   "cell_type": "code",
   "execution_count": 1,
   "metadata": {},
   "outputs": [],
   "source": [
    "import re\n",
    "import nltk\n",
    "\n",
    "\n",
    "regexp = [\n",
    "    r\"[a-zA-Z]+\",\n",
    "    r\"[A-Z][a-z]*\", \n",
    "    r\"p[aeiou]{,2}t\",\n",
    "    r\"\\d+(\\.\\d+)?\", \n",
    "    r\"([^aeiou][aeiou][^aeiou])*\", \n",
    "    r\"\\w+|[^\\w\\s]+]\"\n",
    "]\n",
    "\n",
    "teststr = [\n",
    "    \"ab AB A a zAz 2abCd A/Bcd 234\", \n",
    "    \"ab AB A a zAz 2abCd A/Bcd 234 Abcdefghi\"\n",
    "]"
   ]
  },
  {
   "cell_type": "markdown",
   "metadata": {},
   "source": [
    "### a. [a-zA-Z]+\n",
    "アルファベットの大文字あるいは小文字が1回以上繰り返す文字列"
   ]
  },
  {
   "cell_type": "code",
   "execution_count": 2,
   "metadata": {},
   "outputs": [
    {
     "output_type": "stream",
     "name": "stdout",
     "text": [
      "{ab} {AB} {A} {a} {zAz} 2{abCd} {A}/{Bcd} 234\n"
     ]
    }
   ],
   "source": [
    "nltk.re_show(regexp[0], teststr[0])"
   ]
  },
  {
   "cell_type": "markdown",
   "metadata": {},
   "source": [
    "### b. [A-Z][a-z]*\n",
    "アルファベットの大文字1文字の後に小文字が0回以上繰り返す文字列"
   ]
  },
  {
   "cell_type": "code",
   "execution_count": 3,
   "metadata": {},
   "outputs": [
    {
     "output_type": "stream",
     "name": "stdout",
     "text": [
      "ab {A}{B} {A} a z{Az} 2ab{Cd} {A}/{Bcd} 234 {Abcdefghi}\n"
     ]
    }
   ],
   "source": [
    "nltk.re_show(regexp[1], teststr[1])"
   ]
  },
  {
   "cell_type": "markdown",
   "metadata": {},
   "source": [
    "### c. p[aeiou]{,2}t\n"
   ]
  },
  {
   "cell_type": "code",
   "execution_count": null,
   "metadata": {},
   "outputs": [],
   "source": [
    "nltk.re_show(regexp[2], teststr[2])"
   ]
  }
 ],
 "metadata": {
  "interpreter": {
   "hash": "4cd7ab41f5fca4b9b44701077e38c5ffd31fe66a6cab21e0214b68d958d0e462"
  },
  "kernelspec": {
   "name": "python3",
   "display_name": "Python 3.9.4 64-bit"
  },
  "language_info": {
   "codemirror_mode": {
    "name": "ipython",
    "version": 3
   },
   "file_extension": ".py",
   "mimetype": "text/x-python",
   "name": "python",
   "nbconvert_exporter": "python",
   "pygments_lexer": "ipython3",
   "version": "3.9.4"
  },
  "orig_nbformat": 4
 },
 "nbformat": 4,
 "nbformat_minor": 2
}